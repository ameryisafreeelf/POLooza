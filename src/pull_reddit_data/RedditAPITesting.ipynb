{
 "cells": [
  {
   "cell_type": "markdown",
   "metadata": {},
   "source": [
    "Testing some basic Reddit API functions\n",
    "\n",
    "Think of this as something like a tutorial for API functions that may be useful"
   ]
  },
  {
   "cell_type": "code",
   "execution_count": 1,
   "metadata": {
    "collapsed": true
   },
   "outputs": [],
   "source": [
    "import praw          # Python Reddit API wrapper- pip install if you don't have it\n",
    "import json\n",
    "import pprint\n",
    "import numpy as np\n",
    "import pandas as pd"
   ]
  },
  {
   "cell_type": "code",
   "execution_count": 2,
   "metadata": {
    "collapsed": true
   },
   "outputs": [],
   "source": [
    "\"\"\"\n",
    "We need some prerequisites to use PRAW.\n",
    "\n",
    "You will need to create an application in order to get authentication information:\n",
    "https://praw.readthedocs.io/en/latest/getting_started/quick_start.html\n",
    "\n",
    "After you create the app, you should be directed to the \"apps\" tab under your Reddit account. Now you can fetch the OAuth \n",
    "credentials you'll need.\n",
    "\n",
    "'client_id' is located under \"personal use script\"\n",
    "'password' is just your account's reddit password\n",
    "'user_agent' is just a string that function as a unique identifier for your network requests- could be anything\n",
    "'username' is your reddit account's username\n",
    "\n",
    "reddit = praw.Reddit(client_id='kCjbiHmfa6QCHg',\n",
    "                     client_secret='oE4G_WsYBcQUGyWGndq1tJ5Qnzw',\n",
    "                     password='1guiwevlfo00esyy',\n",
    "                     user_agent='testscript by /u/fakebot3',\n",
    "                     username='fakebot3')\n",
    "\"\"\"\n",
    "\n",
    "# This creates a Reddit instance\n",
    "reddit = praw.Reddit(# Put client_id here\n",
    "                     client_id = 'kCjbiHmfa6QCHg', \n",
    "                     # Put client_secret here\n",
    "                     client_secret = 'oE4G_WsYBcQUGyWGndq1tJ5Qnzw', \n",
    "                     # Put password below\n",
    "                     # password = PUT THE PASSWORD HERE \n",
    "                     password = 'CrainChangChangCrain',\n",
    "                     user_agent = 'myAgent', \n",
    "                     # Put the username below\n",
    "                     # username = USERNAME HERE\n",
    "                     username = 'BootyMcBootyson'\n",
    "                    )"
   ]
  },
  {
   "cell_type": "code",
   "execution_count": 3,
   "metadata": {
    "scrolled": true
   },
   "outputs": [
    {
     "name": "stdout",
     "output_type": "stream",
     "text": [
      "BootyMcBootyson\n"
     ]
    }
   ],
   "source": [
    "# Verify the reddit instance by ensuring that we have a \"user\" field\n",
    "print(reddit.user.me())"
   ]
  },
  {
   "cell_type": "code",
   "execution_count": null,
   "metadata": {
    "collapsed": true
   },
   "outputs": [],
   "source": [
    "# Pick a subreddit from which to scrape comments\n",
    "subreddit = reddit.subreddit('politics')"
   ]
  },
  {
   "cell_type": "code",
   "execution_count": null,
   "metadata": {
    "collapsed": true
   },
   "outputs": [],
   "source": [
    "print(subreddit.title)         # Output: reddit Development\n",
    "print(subreddit.description)   # Output: A subreddit for discussion of ..."
   ]
  },
  {
   "cell_type": "code",
   "execution_count": null,
   "metadata": {
    "collapsed": true
   },
   "outputs": [],
   "source": [
    "# What do we do with comments vs submissions\n",
    "query1 = \"Trump\"\n",
    "\n",
    "# Assume you have a Subreddit instance bound to variable `subreddit`\n",
    "for submission in subreddit.search(query1):\n",
    "    print(submission.title)  # Output: the submission's title\n",
    "    print(submission.score)  # Output: the submission's score\n",
    "    print(submission.id)     # Output: the submission's ID\n",
    "    print(submission.url)    # Output: the URL the submission points to\n",
    "                             # or the submission's URL if it's a self post"
   ]
  },
  {
   "cell_type": "code",
   "execution_count": null,
   "metadata": {
    "collapsed": true
   },
   "outputs": [],
   "source": [
    "# These functions will extract comments into a list by flattening comments from each submission\n",
    "top_level_comments = list(submission.comments)\n",
    "all_comments = submission.comments.list()"
   ]
  },
  {
   "cell_type": "code",
   "execution_count": null,
   "metadata": {
    "collapsed": true
   },
   "outputs": [],
   "source": [
    "all_comments.pop(0)"
   ]
  },
  {
   "cell_type": "code",
   "execution_count": null,
   "metadata": {
    "collapsed": true
   },
   "outputs": [],
   "source": [
    "# If len is 0, this means there are no comments in each of the submissions we've retrieved\n",
    "len(all_comments)"
   ]
  },
  {
   "cell_type": "code",
   "execution_count": null,
   "metadata": {
    "collapsed": true
   },
   "outputs": [],
   "source": [
    "# Here's how you'd look at members of a Comment\n",
    "# PRAW generates this based on the most recent version of the API, so you'll need to find docs to figure out what stuff means\n",
    "dir(all_comments[0])"
   ]
  },
  {
   "cell_type": "code",
   "execution_count": null,
   "metadata": {
    "collapsed": true
   },
   "outputs": [],
   "source": [
    "# Here's how you extract the text from the comment\n",
    "all_comments[0].body"
   ]
  }
 ],
 "metadata": {
  "kernelspec": {
   "display_name": "Python 3",
   "language": "python",
   "name": "python3"
  },
  "language_info": {
   "codemirror_mode": {
    "name": "ipython",
    "version": 3
   },
   "file_extension": ".py",
   "mimetype": "text/x-python",
   "name": "python",
   "nbconvert_exporter": "python",
   "pygments_lexer": "ipython3",
   "version": "3.6.2"
  }
 },
 "nbformat": 4,
 "nbformat_minor": 2
}
